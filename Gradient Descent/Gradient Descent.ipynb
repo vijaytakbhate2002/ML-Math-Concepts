{
 "cells": [
  {
   "cell_type": "code",
   "execution_count": 2,
   "id": "6c63d405-6f6d-4f41-b280-037044da4ff3",
   "metadata": {},
   "outputs": [
    {
     "name": "stdout",
     "output_type": "stream",
     "text": [
      "          X          y\n",
      "0  3.745401  14.450550\n",
      "1  9.507143  28.468850\n",
      "2  7.319939  23.391609\n",
      "3  5.986585  17.978893\n",
      "4  1.560186   8.680794\n"
     ]
    },
    {
     "data": {
      "image/png": "[encoded data removed]",
      "text/plain": [
       "<Figure size 640x480 with 1 Axes>"
      ]
     },
     "metadata": {},
     "output_type": "display_data"
    }
   ],
   "source": [
    "import numpy as np\n",
    "import pandas as pd\n",
    "import warnings\n",
    "import matplotlib.pyplot as plt\n",
    "warnings.filterwarnings(\"ignore\")\n",
    "# Parameters for the linear relationship\n",
    "m = 2.5  # Slope\n",
    "c = 5    # Intercept\n",
    "noise_factor = 1.0  # Noise level\n",
    "\n",
    "# Generate random X values\n",
    "np.random.seed(42)\n",
    "X = np.random.rand(100, 1) * 10  # 100 random values between 0 and 10\n",
    "\n",
    "# Generate y values with some noise\n",
    "y = m * X + c + np.random.randn(100, 1) * noise_factor\n",
    "\n",
    "# Create a DataFrame for easier handling\n",
    "data = pd.DataFrame(np.hstack((X, y)), columns=['X', 'y'])\n",
    "\n",
    "# Display the first few rows of the dataset\n",
    "print(data.head())\n",
    "\n",
    "# Plot the dataset\n",
    "plt.scatter(data['X'], data['y'], color='b', label='Data points')\n",
    "plt.plot(X, m * X + c, color='r', label='True line (without noise)')\n",
    "plt.xlabel('X')\n",
    "plt.ylabel('y')\n",
    "plt.title('Generated Dataset')\n",
    "plt.legend()\n",
    "plt.show()\n"
   ]
  },
  {
   "cell_type": "code",
   "execution_count": 3,
   "id": "0d605fe8-1ef9-4a90-a2ab-90dcd28dff77",
   "metadata": {},
   "outputs": [
    {
     "data": {
      "text/html": [
       "<div>\n",
       "<style scoped>\n",
       "    .dataframe tbody tr th:only-of-type {\n",
       "        vertical-align: middle;\n",
       "    }\n",
       "\n",
       "    .dataframe tbody tr th {\n",
       "        vertical-align: top;\n",
       "    }\n",
       "\n",
       "    .dataframe thead th {\n",
       "        text-align: right;\n",
       "    }\n",
       "</style>\n",
       "<table border=\"1\" class=\"dataframe\">\n",
       "  <thead>\n",
       "    <tr style=\"text-align: right;\">\n",
       "      <th></th>\n",
       "      <th>X</th>\n",
       "      <th>y</th>\n",
       "    </tr>\n",
       "  </thead>\n",
       "  <tbody>\n",
       "    <tr>\n",
       "      <th>0</th>\n",
       "      <td>3.745401</td>\n",
       "      <td>14.450550</td>\n",
       "    </tr>\n",
       "    <tr>\n",
       "      <th>1</th>\n",
       "      <td>9.507143</td>\n",
       "      <td>28.468850</td>\n",
       "    </tr>\n",
       "    <tr>\n",
       "      <th>2</th>\n",
       "      <td>7.319939</td>\n",
       "      <td>23.391609</td>\n",
       "    </tr>\n",
       "    <tr>\n",
       "      <th>3</th>\n",
       "      <td>5.986585</td>\n",
       "      <td>17.978893</td>\n",
       "    </tr>\n",
       "    <tr>\n",
       "      <th>4</th>\n",
       "      <td>1.560186</td>\n",
       "      <td>8.680794</td>\n",
       "    </tr>\n",
       "  </tbody>\n",
       "</table>\n",
       "</div>"
      ],
      "text/plain": [
       "          X          y\n",
       "0  3.745401  14.450550\n",
       "1  9.507143  28.468850\n",
       "2  7.319939  23.391609\n",
       "3  5.986585  17.978893\n",
       "4  1.560186   8.680794"
      ]
     },
     "execution_count": 3,
     "metadata": {},
     "output_type": "execute_result"
    }
   ],
   "source": [
    "data.head()"
   ]
  },
  {
   "cell_type": "code",
   "execution_count": 4,
   "id": "4821d6ba-12ac-44f8-8dfc-7bca403de499",
   "metadata": {},
   "outputs": [],
   "source": [
    "from sklearn.model_selection import train_test_split\n",
    "\n",
    "X_train, X_test, y_train, y_test = train_test_split(X, y)"
   ]
  },
  {
   "cell_type": "code",
   "execution_count": 13,
   "id": "f634e44b-72b8-494a-980e-c9484ce7446b",
   "metadata": {},
   "outputs": [],
   "source": [
    "import matplotlib.pyplot as plt\n",
    "import numpy as np\n",
    "from matplotlib.backends.backend_agg import FigureCanvasAgg as FigureCanvas\n",
    "import cv2 as cv\n",
    "\n",
    "from sklearn.metrics import mean_squared_error\n",
    "import numpy as np\n",
    "from abc import ABC, abstractmethod\n",
    "\n",
    "class GradientAbstract(ABC):\n",
    "    mse_ = None\n",
    "    \n",
    "    def __init__(self, X: np.ndarray, y: np.ndarray, lr: float = 0.01, m: float = 0.1, c: float = 0, iterations: int = 1000):\n",
    "        self.X = X\n",
    "        self.y = y\n",
    "        self.lr = lr\n",
    "        self.m = m\n",
    "        self.c = c\n",
    "        self.iterations = iterations\n",
    "\n",
    "    @abstractmethod\n",
    "    def MSE(self, y_pred: np.ndarray) -> float:\n",
    "        pass\n",
    "\n",
    "    @abstractmethod\n",
    "    def slopeDelta(self) -> float:\n",
    "        pass\n",
    "\n",
    "    @abstractmethod\n",
    "    def interceptDelta(self) -> float:\n",
    "        pass\n",
    "\n",
    "    @abstractmethod\n",
    "    def predict_(self) -> np.ndarray:\n",
    "        pass\n",
    "\n",
    "    @abstractmethod\n",
    "    def predict(self, X: np.ndarray) -> np.ndarray:\n",
    "        pass\n",
    "\n",
    "    @abstractmethod\n",
    "    def getGradients(self) -> None:\n",
    "        pass\n",
    "\n",
    "class GradientDescent(GradientAbstract):\n",
    "    \n",
    "    def MSE(self, y_pred) -> float:\n",
    "        self.mse_ = mean_squared_error(y_true=self.y, y_pred=y_pred)\n",
    "        return self.mse_  \n",
    "    \n",
    "    def slopeDelta(self) -> float:\n",
    "        return -2 / len(self.y) * np.sum(self.X * (self.y - (self.m * self.X + self.c)))\n",
    "    \n",
    "    def interceptDelta(self) -> float:\n",
    "        return -2 / len(self.y) * np.sum(self.y - (self.m * self.X + self.c))\n",
    "    \n",
    "    def predict_(self) -> np.ndarray:\n",
    "        y_pred = self.m * self.X + self.c\n",
    "        return y_pred\n",
    "\n",
    "    def predict(self, X: np.ndarray) -> np.ndarray:\n",
    "        return self.m * X + self.c\n",
    "\n",
    "    @staticmethod\n",
    "    def score(y_true:np.ndarray, y_pred:np.ndarray):\n",
    "        diff = []\n",
    "        for i, j in zip(y_true, y_pred):\n",
    "            diff.append(i -j)\n",
    "        return sum(diff)\n",
    "        \n",
    "    def getGradients(self) -> None:\n",
    "        for i in range(self.iterations):\n",
    "            y_pred = self.predict_()\n",
    "            mse = self.MSE(y_pred=y_pred)\n",
    "            print(f\"Iteration {i} | m = {self.m:.4f}, c = {self.c:.4f}, MSE = {mse:.4f}\")\n",
    "\n",
    "            delta_m = self.slopeDelta()\n",
    "            delta_c = self.interceptDelta()\n",
    "            \n",
    "            self.m -= self.lr * delta_m\n",
    "            self.c -= self.lr * delta_c\n",
    "\n",
    "            yield self.m, self.c, self.mse_"
   ]
  },
  {
   "cell_type": "code",
   "execution_count": null,
   "id": "217bbca5-1585-4ccc-8dec-af164ade89a2",
   "metadata": {},
   "outputs": [
    {
     "name": "stderr",
     "output_type": "stream",
     "text": [
      "IOPub data rate exceeded.\n",
      "The Jupyter server will temporarily stop sending output\n",
      "to the client in order to avoid crashing it.\n",
      "To change this limit, set the config variable\n",
      "`--ServerApp.iopub_data_rate_limit`.\n",
      "\n",
      "Current values:\n",
      "ServerApp.iopub_data_rate_limit=1000000.0 (bytes/sec)\n",
      "ServerApp.rate_limit_window=3.0 (secs)\n",
      "\n"
     ]
    }
   ],
   "source": [
    "model = GradientDescent(X=X_train, y=y_train)\n",
    "val = model.getGradients()\n",
    "while True:\n",
    "    print(val)"
   ]
  },
  {
   "cell_type": "code",
   "execution_count": null,
   "id": "776a0041-eee3-463f-a3dc-f08ca80ccd77",
   "metadata": {},
   "outputs": [],
   "source": []
  }
 ],
 "metadata": {
  "kernelspec": {
   "display_name": "Python 3 (ipykernel)",
   "language": "python",
   "name": "python3"
  },
  "language_info": {
   "codemirror_mode": {
    "name": "ipython",
    "version": 3
   },
   "file_extension": ".py",
   "mimetype": "text/x-python",
   "name": "python",
   "nbconvert_exporter": "python",
   "pygments_lexer": "ipython3",
   "version": "3.12.6"
  }
 },
 "nbformat": 4,
 "nbformat_minor": 5
}
